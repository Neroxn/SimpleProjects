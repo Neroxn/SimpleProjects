{
 "cells": [
  {
   "cell_type": "code",
   "execution_count": 1,
   "metadata": {},
   "outputs": [],
   "source": [
    "#Import required libraries\n",
    "import os\n",
    "from tensorflow.keras import layers\n",
    "from tensorflow.keras import Model\n",
    "from tensorflow.keras.preprocessing.image import ImageDataGenerator\n",
    "import tensorflow as tf"
   ]
  },
  {
   "cell_type": "code",
   "execution_count": 4,
   "metadata": {},
   "outputs": [],
   "source": [
    "#Create data generator\n",
    "generator = ImageDataGenerator(\n",
    "    horizontal_flip=True,\n",
    "    zoom_range=0.2,\n",
    "    shear_range=0.2,\n",
    "    width_shift_range=0.2,\n",
    "    height_shift_range=0.2,\n",
    "    rotation_range=30,\n",
    "    rescale=1.0/255)\n",
    "\n",
    "test = ImageDataGenerator(rescale=1.0/255)"
   ]
  },
  {
   "cell_type": "code",
   "execution_count": 5,
   "metadata": {},
   "outputs": [],
   "source": [
    "train_dir = \"gender_dataset/Train\"\n",
    "test_dir = \"gender_dataset/Test\"\n",
    "val_dir = \"gender_dataset/Validation\""
   ]
  },
  {
   "cell_type": "code",
   "execution_count": 6,
   "metadata": {},
   "outputs": [
    {
     "name": "stdout",
     "output_type": "stream",
     "text": [
      "Found 160000 images belonging to 2 classes.\n"
     ]
    }
   ],
   "source": [
    "#Fit the generators\n",
    "train_generator = generator.flow_from_directory(train_dir,\n",
    "                                               batch_size=256,\n",
    "                                               class_mode = 'binary',\n",
    "                                               target_size = (64,64))"
   ]
  },
  {
   "cell_type": "code",
   "execution_count": 7,
   "metadata": {},
   "outputs": [
    {
     "name": "stdout",
     "output_type": "stream",
     "text": [
      "Found 22598 images belonging to 2 classes.\n"
     ]
    }
   ],
   "source": [
    "valid_generator = test.flow_from_directory(val_dir,\n",
    "                                          batch_size=256,\n",
    "                                          class_mode='binary',\n",
    "                                          target_size=(64,64))"
   ]
  },
  {
   "cell_type": "code",
   "execution_count": 8,
   "metadata": {},
   "outputs": [],
   "source": [
    "#Build the model. We will use 5 conv layers with BN\n",
    "model = tf.keras.models.Sequential()\n",
    "\n",
    "#CONV 1\n",
    "model.add(tf.keras.layers.Conv2D(64,(9,9),input_shape = (64,64,3),activation = 'relu', strides = (3,3)))\n",
    "model.add(tf.keras.layers.BatchNormalization())\n",
    "model.add(tf.keras.layers.MaxPool2D((2,2),strides = (2,2)))256\n",
    "\n",
    "#CONV 2\n",
    "model.add(tf.keras.layers.Conv2D(128,(9,9),activation = 'relu', padding = 'same'))\n",
    "model.add(tf.keras.layers.BatchNormalization())\n",
    "\n",
    "#CONV 3\n",
    "model.add(tf.keras.layers.Conv2D(256,(3,3),activation = 'relu', padding = 'same'))\n",
    "model.add(tf.keras.layers.BatchNormalization())\n",
    "\n",
    "#CONV 4\n",
    "model.add(tf.keras.layers.Conv2D(384,(3,3),activation = 'relu', padding = 'same'))\n",
    "model.add(tf.keras.layers.BatchNormalization())\n",
    "model.add(tf.keras.layers.MaxPool2D((2,2),strides = (2,2)))\n",
    "model.add(tf.keras.layers.Flatten())\n",
    "\n",
    "#2 FC layers with Droputs\n",
    "model.add(tf.keras.layers.Dense(512,activation='relu'))\n",
    "model.add(tf.keras.layers.Dropout(0.5))\n",
    "model.add(tf.keras.layers.Dense(512,activation='relu'))\n",
    "model.add(tf.keras.layers.Dropout(0.5))\n",
    "model.add(tf.keras.layers.Dense(1,activation = 'sigmoid'))"
   ]
  },
  {
   "cell_type": "code",
   "execution_count": 9,
   "metadata": {},
   "outputs": [],
   "source": [
    "#Default\n",
    "from keras.optimizers import Adam\n",
    "optimizer = Adam(learning_rate = 0.001)\n",
    "metric = ['accuracy']\n",
    "loss = \"binary_crossentropy\""
   ]
  },
  {
   "cell_type": "code",
   "execution_count": 10,
   "metadata": {},
   "outputs": [],
   "source": [
    "#Also create a learning schedule\n",
    "from keras.callbacks import ReduceLROnPlateau"
   ]
  },
  {
   "cell_type": "code",
   "execution_count": 11,
   "metadata": {},
   "outputs": [],
   "source": [
    "lr_scheduler = ReduceLROnPlateau(factor = 0.2,\n",
    "                                monitor = 'val_accuracy',\n",
    "                                min_lr = 0.00001,\n",
    "                                patiance = 3)"
   ]
  },
  {
   "cell_type": "code",
   "execution_count": 13,
   "metadata": {},
   "outputs": [],
   "source": [
    "model.compile(optimizer=optimizer, metrics=metric, loss=loss)"
   ]
  },
  {
   "cell_type": "code",
   "execution_count": 15,
   "metadata": {},
   "outputs": [
    {
     "name": "stdout",
     "output_type": "stream",
     "text": [
      "Epoch 1/30\n",
      "256/256 [==============================] - ETA: 0s - loss: 0.6938 - accuracy: 0.5748WARNING:tensorflow:Your input ran out of data; interrupting training. Make sure that your dataset or generator can generate at least `steps_per_epoch * epochs` batches (in this case, 256 batches). You may need to use the repeat() function when building your dataset.\n",
      "256/256 [==============================] - 959s 4s/step - loss: 0.6938 - accuracy: 0.5748 - val_loss: 0.6842 - val_accuracy: 0.5668\n",
      "Epoch 2/30\n",
      "256/256 [==============================] - 660s 3s/step - loss: 0.5795 - accuracy: 0.6954\n",
      "Epoch 3/30\n",
      "256/256 [==============================] - 710s 3s/step - loss: 0.4868 - accuracy: 0.7694\n",
      "Epoch 4/30\n",
      "256/256 [==============================] - 717s 3s/step - loss: 0.4032 - accuracy: 0.8179\n",
      "Epoch 5/30\n",
      "256/256 [==============================] - 708s 3s/step - loss: 0.3374 - accuracy: 0.8539\n",
      "Epoch 6/30\n",
      "256/256 [==============================] - 704s 3s/step - loss: 0.2960 - accuracy: 0.8751\n",
      "Epoch 7/30\n",
      "256/256 [==============================] - 702s 3s/step - loss: 0.2753 - accuracy: 0.8824\n",
      "Epoch 8/30\n",
      "256/256 [==============================] - 678s 3s/step - loss: 0.2564 - accuracy: 0.8922\n",
      "Epoch 9/30\n",
      "256/256 [==============================] - 622s 2s/step - loss: 0.2423 - accuracy: 0.8991\n",
      "Epoch 10/30\n",
      "256/256 [==============================] - 606s 2s/step - loss: 0.2354 - accuracy: 0.9019\n",
      "Epoch 11/30\n",
      "256/256 [==============================] - 613s 2s/step - loss: 0.2271 - accuracy: 0.9082\n",
      "Epoch 12/30\n",
      "256/256 [==============================] - 611s 2s/step - loss: 0.2209 - accuracy: 0.9102\n",
      "Epoch 13/30\n",
      "256/256 [==============================] - 609s 2s/step - loss: 0.2178 - accuracy: 0.9098\n",
      "Epoch 14/30\n",
      "256/256 [==============================] - 653s 3s/step - loss: 0.2099 - accuracy: 0.9154\n",
      "Epoch 15/30\n",
      "256/256 [==============================] - 629s 2s/step - loss: 0.2060 - accuracy: 0.9172\n",
      "Epoch 16/30\n",
      "256/256 [==============================] - 628s 2s/step - loss: 0.2052 - accuracy: 0.9167\n",
      "Epoch 17/30\n",
      "256/256 [==============================] - 671s 3s/step - loss: 0.1967 - accuracy: 0.9201\n",
      "Epoch 18/30\n",
      "256/256 [==============================] - 716s 3s/step - loss: 0.1937 - accuracy: 0.9213\n",
      "Epoch 19/30\n",
      "256/256 [==============================] - 664s 3s/step - loss: 0.1878 - accuracy: 0.9244\n",
      "Epoch 20/30\n",
      "256/256 [==============================] - 645s 3s/step - loss: 0.1901 - accuracy: 0.9226\n",
      "Epoch 21/30\n",
      "256/256 [==============================] - 663s 3s/step - loss: 0.1860 - accuracy: 0.9251\n",
      "Epoch 22/30\n",
      "256/256 [==============================] - 643s 3s/step - loss: 0.1849 - accuracy: 0.9266\n",
      "Epoch 23/30\n",
      "256/256 [==============================] - 644s 3s/step - loss: 0.1835 - accuracy: 0.9251\n",
      "Epoch 24/30\n",
      "256/256 [==============================] - 651s 3s/step - loss: 0.1810 - accuracy: 0.9276\n",
      "Epoch 25/30\n",
      "256/256 [==============================] - 624s 2s/step - loss: 0.1771 - accuracy: 0.9298\n",
      "Epoch 26/30\n",
      "256/256 [==============================] - 600s 2s/step - loss: 0.1757 - accuracy: 0.9305\n",
      "Epoch 27/30\n",
      "256/256 [==============================] - 605s 2s/step - loss: 0.1732 - accuracy: 0.9316\n",
      "Epoch 28/30\n",
      "256/256 [==============================] - 672s 3s/step - loss: 0.1749 - accuracy: 0.9306\n",
      "Epoch 29/30\n",
      "256/256 [==============================] - 697s 3s/step - loss: 0.1725 - accuracy: 0.9308\n",
      "Epoch 30/30\n",
      "256/256 [==============================] - 656s 3s/step - loss: 0.1722 - accuracy: 0.9317\n"
     ]
    }
   ],
   "source": [
    "history = model.fit_generator(generator = train_generator,\n",
    "                             validation_data= valid_generator,\n",
    "                             steps_per_epoch=256,\n",
    "                             validation_steps=256,\n",
    "                             epochs = 30)"
   ]
  },
  {
   "cell_type": "code",
   "execution_count": 30,
   "metadata": {},
   "outputs": [],
   "source": [
    "?tf.keras.models.Sequential.fit_generator"
   ]
  },
  {
   "cell_type": "code",
   "execution_count": 16,
   "metadata": {},
   "outputs": [],
   "source": [
    "model.save(\"gender_classify.h5\")"
   ]
  },
  {
   "cell_type": "code",
   "execution_count": 17,
   "metadata": {},
   "outputs": [
    {
     "name": "stdout",
     "output_type": "stream",
     "text": [
      "Model: \"sequential\"\n",
      "_________________________________________________________________\n",
      "Layer (type)                 Output Shape              Param #   \n",
      "=================================================================\n",
      "conv2d (Conv2D)              (None, 19, 19, 64)        15616     \n",
      "_________________________________________________________________\n",
      "batch_normalization (BatchNo (None, 19, 19, 64)        256       \n",
      "_________________________________________________________________\n",
      "max_pooling2d (MaxPooling2D) (None, 9, 9, 64)          0         \n",
      "_________________________________________________________________\n",
      "conv2d_1 (Conv2D)            (None, 9, 9, 128)         663680    \n",
      "_________________________________________________________________\n",
      "batch_normalization_1 (Batch (None, 9, 9, 128)         512       \n",
      "_________________________________________________________________\n",
      "conv2d_2 (Conv2D)            (None, 9, 9, 256)         295168    \n",
      "_________________________________________________________________\n",
      "batch_normalization_2 (Batch (None, 9, 9, 256)         1024      \n",
      "_________________________________________________________________\n",
      "conv2d_3 (Conv2D)            (None, 9, 9, 384)         885120    \n",
      "_________________________________________________________________\n",
      "batch_normalization_3 (Batch (None, 9, 9, 384)         1536      \n",
      "_________________________________________________________________\n",
      "max_pooling2d_1 (MaxPooling2 (None, 4, 4, 384)         0         \n",
      "_________________________________________________________________\n",
      "flatten (Flatten)            (None, 6144)              0         \n",
      "_________________________________________________________________\n",
      "dense (Dense)                (None, 512)               3146240   \n",
      "_________________________________________________________________\n",
      "dropout (Dropout)            (None, 512)               0         \n",
      "_________________________________________________________________\n",
      "dense_1 (Dense)              (None, 512)               262656    \n",
      "_________________________________________________________________\n",
      "dropout_1 (Dropout)          (None, 512)               0         \n",
      "_________________________________________________________________\n",
      "dense_2 (Dense)              (None, 1)                 513       \n",
      "=================================================================\n",
      "Total params: 5,272,321\n",
      "Trainable params: 5,270,657\n",
      "Non-trainable params: 1,664\n",
      "_________________________________________________________________\n"
     ]
    }
   ],
   "source": [
    "model.summary()"
   ]
  },
  {
   "cell_type": "code",
   "execution_count": 43,
   "metadata": {},
   "outputs": [
    {
     "name": "stdout",
     "output_type": "stream",
     "text": [
      "(1, 64, 64, 3)\n",
      "[1.]\n",
      "is a man\n"
     ]
    },
    {
     "data": {
      "text/plain": [
       "<matplotlib.image.AxesImage at 0x1e0a8a565f8>"
      ]
     },
     "execution_count": 43,
     "metadata": {},
     "output_type": "execute_result"
    },
    {
     "data": {
      "image/png": "[encoded data removed]",
      "text/plain": [
       "<Figure size 432x288 with 1 Axes>"
      ]
     },
     "metadata": {
      "needs_background": "light"
     },
     "output_type": "display_data"
    }
   ],
   "source": [
    "import numpy as np\n",
    "\n",
    "from keras.preprocessing import image\n",
    "# predicting images\n",
    "path = \"gender_dataset/Custom/cursed.png\"\n",
    "img = image.load_img(path, target_size=(64, 64))\n",
    "x = image.img_to_array(img)\n",
    "x = np.expand_dims(x, axis=0)\n",
    "print(x.shape)\n",
    "\n",
    "images = np.vstack([x])\n",
    "classes = model.predict(images, batch_size=1)\n",
    "print(classes[0])\n",
    "if classes[0]>0.5:\n",
    "    print(\"is a man\")\n",
    "else:\n",
    "    print( \" is a female\")\n",
    "plt.imshow(img)"
   ]
  },
  {
   "cell_type": "code",
   "execution_count": null,
   "metadata": {},
   "outputs": [],
   "source": []
  }
 ],
 "metadata": {
  "kernelspec": {
   "display_name": "Python 3",
   "language": "python",
   "name": "python3"
  },
  "language_info": {
   "codemirror_mode": {
    "name": "ipython",
    "version": 3
   },
   "file_extension": ".py",
   "mimetype": "text/x-python",
   "name": "python",
   "nbconvert_exporter": "python",
   "pygments_lexer": "ipython3",
   "version": "3.7.3"
  }
 },
 "nbformat": 4,
 "nbformat_minor": 2
}
